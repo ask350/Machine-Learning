### Regularization
1. Ridge (L2 Regularization) - Penalty is applied on cost function. Penalty is applied on Square of coefficients